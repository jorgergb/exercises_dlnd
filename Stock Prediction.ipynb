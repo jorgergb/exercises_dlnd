{
 "cells": [
  {
   "cell_type": "code",
   "execution_count": 1,
   "metadata": {},
   "outputs": [
    {
     "name": "stderr",
     "output_type": "stream",
     "text": [
      "Using TensorFlow backend.\n"
     ]
    }
   ],
   "source": [
    "from keras.layers.core import Dense, Activation, Dropout\n",
    "from keras.layers.recurrent import LSTM\n",
    "from keras.models import Sequential\n",
    "import time"
   ]
  },
  {
   "cell_type": "code",
   "execution_count": 2,
   "metadata": {},
   "outputs": [],
   "source": [
    "import warnings\n",
    "import numpy as np\n",
    "from numpy import newaxis\n",
    "import matplotlib.pyplot as plt"
   ]
  },
  {
   "cell_type": "code",
   "execution_count": 3,
   "metadata": {
    "collapsed": true
   },
   "outputs": [],
   "source": [
    "warnings.filterwarnings(\"ignore\")"
   ]
  },
  {
   "cell_type": "code",
   "execution_count": 16,
   "metadata": {
    "collapsed": true
   },
   "outputs": [],
   "source": [
    "def plot_results_multiple(predicted_data, true_data, prediction_len):\n",
    "    fig = plt.figure(facecolor='white')\n",
    "    ax  = fig.add_subplot(111)\n",
    "    ax.plot(true_data, label='True Data')\n",
    "    \n",
    "    for i, data in enumerate(predicted_data):\n",
    "        padding = [None for p in range(i * prediction_len)]\n",
    "        plt.plot(padding+data, label='Prediction')\n",
    "        plt.legend()\n",
    "        \n",
    "    plt.show()"
   ]
  },
  {
   "cell_type": "code",
   "execution_count": 5,
   "metadata": {
    "collapsed": true
   },
   "outputs": [],
   "source": [
    "def load_data(filename, seq_len, normalize_window):\n",
    "    f = open(filename, 'r').read()\n",
    "    \n",
    "    data = f.split('\\n')\n",
    "    \n",
    "    sequence_length = seq_len + 1\n",
    "    result = []\n",
    "    \n",
    "    for index in range(len(data) - sequence_length):\n",
    "        result.append(data[index : index+sequence_length])\n",
    "        \n",
    "    if normalize_window:\n",
    "        result = normalize_windows(result)\n",
    "        \n",
    "    result = np.array(result)\n",
    "    \n",
    "    \n",
    "    row = round(0.9 * result.shape[0])\n",
    "    train = result[:int(row), :]\n",
    "    np.random.shuffle(train)\n",
    "    x_train = train[:, :-1]\n",
    "    y_train = train[:, -1]\n",
    "    x_test = result[int(row):, :-1]\n",
    "    y_test = result[int(row):, -1]\n",
    "    \n",
    "    \n",
    "    x_train = np.reshape(x_train, (x_train.shape[0], x_train.shape[1],1))\n",
    "    x_test  = np.reshape(x_test, (x_test.shape[0], x_test.shape[1], 1))\n",
    "    \n",
    "    return [x_train, y_train, x_test, y_test]"
   ]
  },
  {
   "cell_type": "code",
   "execution_count": 6,
   "metadata": {
    "collapsed": true
   },
   "outputs": [],
   "source": [
    "def normalize_windows(window_data) : \n",
    "    normalized_data = []\n",
    "    for window in window_data:\n",
    "        normalized_window = [((float(p) / float(window[0])) -1 ) for p in window]\n",
    "        normalized_data.append(normalized_window)\n",
    "        \n",
    "    return normalized_data"
   ]
  },
  {
   "cell_type": "code",
   "execution_count": 7,
   "metadata": {
    "collapsed": true
   },
   "outputs": [],
   "source": [
    "def build_model(layers):\n",
    "    model = Sequential()\n",
    "    model.add(LSTM(\n",
    "        input_dim = layers[0],\n",
    "        output_dim = layers[1],\n",
    "        return_sequences = True\n",
    "    ))\n",
    "    model.add(LSTM(\n",
    "        layers[2],\n",
    "        return_sequences = False\n",
    "    ))\n",
    "    model.add(Dense(\n",
    "        output_dim = layers[3]\n",
    "    ))\n",
    "    \n",
    "    model.add(Activation(\"linear\"))\n",
    "    \n",
    "    start = time.time()\n",
    "    \n",
    "    model.compile(loss = \"mse\", optimizer=\"rmsprop\")\n",
    "    print(\"Compilation Time: \", time.time() - start)\n",
    "    \n",
    "    return model\n",
    "    "
   ]
  },
  {
   "cell_type": "code",
   "execution_count": 8,
   "metadata": {
    "collapsed": true
   },
   "outputs": [],
   "source": [
    "def predict_point_by_point(model, data):\n",
    "    predicted = mnodel.predict(data)\n",
    "    predicted = np.reshape(predicted, (predicted.size, ))\n",
    "    return predicted"
   ]
  },
  {
   "cell_type": "code",
   "execution_count": 18,
   "metadata": {
    "collapsed": true
   },
   "outputs": [],
   "source": [
    "def predict_sequence_full (model, data, window_size):\n",
    "    \n",
    "    curr_frame = data[0]\n",
    "    predicted = []\n",
    "    \n",
    "    for i in range(len(data)):\n",
    "        predicted.append(model.predict(curr_frame[newaxis, :, :])[0,0])\n",
    "        curr_frame = curr_frame[1:]\n",
    "        curr_frame = np.insert(curr_frame, [window_size-1], predicted[-1], axis=0)\n",
    "        \n",
    "    return predicted\n"
   ]
  },
  {
   "cell_type": "code",
   "execution_count": 28,
   "metadata": {
    "collapsed": true
   },
   "outputs": [],
   "source": [
    "def predict_sequences_multiple(model, data, window_size, prediction_len):\n",
    "    prediction_seqs = []\n",
    "    \n",
    "    for i in range(len(data)//prediction_len):\n",
    "        curr_frame = data[i*prediction_len]\n",
    "        predicted = []\n",
    "        \n",
    "        for j in range(prediction_len):\n",
    "            predicted.append(model.predict(curr_frame[newaxis,:,:])[0,0])\n",
    "            curr_frame = curr_frame[1:]\n",
    "            curr_frame = np.insert(curr_frame, [window_size-1], predicted[-1], axis=0)\n",
    "            \n",
    "        prediction_seqs.append(predicted)\n",
    "        \n",
    "    return prediction_seqs"
   ]
  },
  {
   "cell_type": "markdown",
   "metadata": {},
   "source": [
    "### Steps"
   ]
  },
  {
   "cell_type": "code",
   "execution_count": 11,
   "metadata": {},
   "outputs": [],
   "source": [
    "X_train, y_train, X_test, y_test = load_data('sp500.csv', 50, True)"
   ]
  },
  {
   "cell_type": "code",
   "execution_count": 12,
   "metadata": {},
   "outputs": [
    {
     "name": "stdout",
     "output_type": "stream",
     "text": [
      "compilation time: 0.04700469970703125\n"
     ]
    }
   ],
   "source": [
    "model = Sequential()\n",
    "\n",
    "model.add(LSTM(\n",
    "    input_dim = 1,\n",
    "    output_dim = 50,\n",
    "    return_sequences = True\n",
    "))\n",
    "\n",
    "model.add(Dropout(0.2))\n",
    "model.add(LSTM(\n",
    "    100,\n",
    "    return_sequences = False\n",
    "))\n",
    "\n",
    "model.add(Dropout(0.2))\n",
    "\n",
    "model.add(Dense(\n",
    "    output_dim=1\n",
    "))\n",
    "model.add(Activation('linear'))\n",
    "\n",
    "start = time.time()\n",
    "model.compile(loss='mse', optimizer='rmsprop')\n",
    "\n",
    "print('compilation time:', time.time() - start)"
   ]
  },
  {
   "cell_type": "markdown",
   "metadata": {},
   "source": [
    "### Train the model"
   ]
  },
  {
   "cell_type": "code",
   "execution_count": 13,
   "metadata": {},
   "outputs": [
    {
     "name": "stdout",
     "output_type": "stream",
     "text": [
      "Train on 3523 samples, validate on 186 samples\n",
      "Epoch 1/1\n",
      "3523/3523 [==============================] - 12s - loss: 0.0022 - val_loss: 0.0010\n"
     ]
    },
    {
     "data": {
      "text/plain": [
       "<keras.callbacks.History at 0x12714e48>"
      ]
     },
     "execution_count": 13,
     "metadata": {},
     "output_type": "execute_result"
    }
   ],
   "source": [
    "model.fit(\n",
    "    X_train,\n",
    "    y_train,\n",
    "    batch_size = 512,\n",
    "    nb_epoch = 1,\n",
    "    validation_split = 0.05\n",
    ")"
   ]
  },
  {
   "cell_type": "markdown",
   "metadata": {},
   "source": [
    "### Plot the model"
   ]
  },
  {
   "cell_type": "code",
   "execution_count": 30,
   "metadata": {},
   "outputs": [
    {
     "data": {
      "image/png": "[encoded data removed]",
      "text/plain": [
       "<matplotlib.figure.Figure at 0x13ad3f98>"
      ]
     },
     "metadata": {},
     "output_type": "display_data"
    }
   ],
   "source": [
    "predictions = predict_sequences_multiple(model, X_test, 50, 50)\n",
    "plot_results_multiple(predictions, y_test, 50)"
   ]
  },
  {
   "cell_type": "code",
   "execution_count": null,
   "metadata": {
    "collapsed": true
   },
   "outputs": [],
   "source": []
  }
 ],
 "metadata": {
  "kernelspec": {
   "display_name": "Python 3",
   "language": "python",
   "name": "python3"
  },
  "language_info": {
   "codemirror_mode": {
    "name": "ipython",
    "version": 3
   },
   "file_extension": ".py",
   "mimetype": "text/x-python",
   "name": "python",
   "nbconvert_exporter": "python",
   "pygments_lexer": "ipython3",
   "version": "3.5.3"
  }
 },
 "nbformat": 4,
 "nbformat_minor": 2
}
